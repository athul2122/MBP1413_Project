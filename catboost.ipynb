{
 "cells": [
  {
   "cell_type": "code",
   "execution_count": null,
   "metadata": {},
   "outputs": [],
   "source": [
    "#CatBoost Model\n",
    "#from catboost import CatBoostClassifier, cv, Pool, metrics\n",
    "#import hyperopt\n"
   ]
  },
  {
   "cell_type": "code",
   "execution_count": null,
   "metadata": {},
   "outputs": [],
   "source": [
    "#categorical_features_indices = np.where(X.dtypes != float)[0]\n",
    "\n",
    "#identifying best parameters for catboost\n",
    "def hyperopt_objective(params):\n",
    "    catboost_model = CatBoostClassifier(\n",
    "        l2_leaf_reg=(params['l2_leaf_reg']),\n",
    "        learning_rate=params['learning_rate'],\n",
    "        iterations=500,\n",
    "        eval_metric=metrics.Accuracy(),\n",
    "        random_seed=40,\n",
    "        verbose=False,\n",
    "        loss_function=metrics.Logloss(),\n",
    "    )\n",
    "\n",
    "    cv_data = cv(\n",
    "        Pool(X_train, y_train, cat_features=categorical_features_indices),\n",
    "        catboost_model.get_params(),\n",
    "        logging_level='Silent',\n",
    "    )\n",
    "    best_accuracy = np.max(cv_data['test-Accuracy-mean'])\n",
    "\n",
    "    return 1 - best_accuracy"
   ]
  },
  {
   "cell_type": "code",
   "execution_count": null,
   "metadata": {},
   "outputs": [],
   "source": [
    "from numpy.random import default_rng\n",
    "\n",
    "params_space = {\n",
    "    'l2_leaf_reg': hyperopt.hp.qloguniform('l2_leaf_reg', 0, 2, 1),\n",
    "    'learning_rate': hyperopt.hp.uniform('learning_rate', 1e-3, 5e-1),\n",
    "}\n",
    "\n",
    "trials = hyperopt.Trials()\n",
    "\n",
    "best = hyperopt.fmin(\n",
    "    hyperopt_objective,\n",
    "    space = params_space,\n",
    "    algo=hyperopt.tpe.suggest,\n",
    "    max_evals=50,\n",
    "    trials=trials,\n",
    "    rstate=default_rng(123)\n",
    ")\n",
    "\n",
    "print(best)"
   ]
  },
  {
   "cell_type": "code",
   "execution_count": null,
   "metadata": {},
   "outputs": [],
   "source": [
    "#getting cv with our best parameters\n",
    "catboost_best_model = CatBoostClassifier(\n",
    "    l2_leaf_reg=(best['l2_leaf_reg']),\n",
    "    learning_rate=best['learning_rate'],\n",
    "    iterations=500,\n",
    "    eval_metric=metrics.Accuracy(),\n",
    "    random_seed=42,\n",
    "    verbose=False,\n",
    "    auto_class_weights=\"Balanced\",\n",
    "    loss_function=metrics.Logloss(),\n",
    ")\n",
    "\n",
    "cv_data = cv(Pool(X_train, y_train, cat_features=categorical_features_indices), catboost_best_model.get_params())"
   ]
  },
  {
   "cell_type": "code",
   "execution_count": null,
   "metadata": {},
   "outputs": [],
   "source": [
    "#precise validation score\n",
    "print('Precise validation accuracy score: {}'.format(np.max(cv_data['test-Accuracy-mean'])))\n",
    "\n",
    "\n",
    "# training model on the training dataset now\n",
    "catboost_best_model.fit(X_train, y_train, cat_features=categorical_features_indices)\n"
   ]
  },
  {
   "cell_type": "code",
   "execution_count": null,
   "metadata": {},
   "outputs": [],
   "source": [
    "#predicting performance on testing dataset\n",
    "y_pred_catboost = catboost_best_model.predict(X_test)\n",
    "y_pred_proba_catboost = catboost_best_model.predict_proba(X_test)[:,1]\n",
    "\n",
    "#calculating accuracy\n",
    "accuracy_catboost = accuracy_score(y_test, y_pred)\n",
    "print(f\"Accuracy: {accuracy_catboost:.4f}\")\n",
    "\n",
    "#calculating AUC\n",
    "auc_catboost = roc_auc_score(y_test, y_pred_proba_catboost)\n",
    "print(f\"ROC AUC: {auc_catboost:.4f}\")\n",
    "\n",
    "#classification report for catboost\n",
    "print(\"\\nClassification Report:\\n\", classification_report(y_test, y_pred_catboost))\n",
    "\n",
    "#saving model\n",
    "catboost_best_model.save_model('catboost_model.dump')\n",
    "\n",
    "#loading model\n",
    "#catboost_best_model.load_model('catboost_model.dump')\n",
    "\n"
   ]
  }
 ],
 "metadata": {
  "kernelspec": {
   "display_name": "Python 3",
   "language": "python",
   "name": "python3"
  },
  "language_info": {
   "codemirror_mode": {
    "name": "ipython",
    "version": 3
   },
   "file_extension": ".py",
   "mimetype": "text/x-python",
   "name": "python",
   "nbconvert_exporter": "python",
   "pygments_lexer": "ipython3",
   "version": "3.10.10"
  }
 },
 "nbformat": 4,
 "nbformat_minor": 2
}
